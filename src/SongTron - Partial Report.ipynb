{
 "cells": [
  {
   "cell_type": "markdown",
   "metadata": {},
   "source": [
    "# SongTron"
   ]
  },
  {
   "cell_type": "code",
   "execution_count": 1,
   "metadata": {},
   "outputs": [],
   "source": [
    "\"\"\"\n",
    "def binarize(image):\n",
    "    #Binarizing image\n",
    "    arr = image.flatten()\n",
    "    mean = arr.mean()\n",
    "    print(\"mean: {}\".format(mean))\n",
    "\n",
    "\"\"\"\n",
    "import imageio\n",
    "import numpy as np\n",
    "import matplotlib.pyplot as plt\n",
    "import cv2\n",
    "from classify_notes import *"
   ]
  },
  {
   "cell_type": "code",
   "execution_count": 2,
   "metadata": {},
   "outputs": [],
   "source": [
    "def kernel_horizontal(bin_im):\n",
    "    horizontal = np.copy(bin_im)\n",
    "    rows = horizontal.shape[1]\n",
    "    size = rows//30\n",
    "    structure = cv2.getStructuringElement(cv2.MORPH_RECT, (size, 1))\n",
    "    print(structure)\n",
    "    horizontal = cv2.erode(horizontal, structure)\n",
    "    horizontal = cv2.dilate(horizontal, structure)\n",
    "    return horizontal\n",
    "\n",
    "def conv2d_image(f, w):\n",
    "    N, M = f.shape[0:2]\n",
    "    n, m = w.shape[0:2]\n",
    "    w_flip = np.flip(np.flip(w, 0), 1)\n",
    "    a = n//2  # floor of n/2\n",
    "    b = m//2  # floor of m/2\n",
    "    g = np.zeros(f.shape, dtype=np.float)\n",
    "    for x in range(a, N-a):\n",
    "        for y in range(b, M-b):\n",
    "            region_f = f[x-a:x+(a+1), y-b:y+(b+1)]\n",
    "            g[x][y] = np.sum(np.multiply(region_f.astype(np.float), w_flip.astype(np.float)))\n",
    "    return g\n",
    "\n",
    "\n",
    "def otsu_threshold(im):\n",
    "\n",
    "    # Compute histogram and probabilities of each intensity level\n",
    "    pixel_counts = [np.sum(im == i) for i in range(256)]\n",
    "    n, m = im.shape[0:2]\n",
    "    # Initialization\n",
    "    s_max = (0,0)\n",
    "\n",
    "    for threshold in range(256):\n",
    "\n",
    "        # update\n",
    "        w_0 = sum(pixel_counts[:threshold])\n",
    "        w_1 = sum(pixel_counts[threshold:])\n",
    "\n",
    "        mu_0 = sum([i * pixel_counts[i] for i in range(0,threshold)])\\\n",
    "                        / w_0 if w_0 > 0 else 0\n",
    "        mu_1 = sum([i * pixel_counts[i] for i in range(threshold, 256)])\\\n",
    "                        / w_1 if w_1 > 0 else 0\n",
    "\n",
    "        # calculate - inter class variance\n",
    "        s = w_0 * w_1 * (mu_0 - mu_1) ** 2\n",
    "\n",
    "        if s > s_max[1]:\n",
    "            s_max = (threshold, s)\n",
    "    return s_max[0]\n",
    "\n",
    "def threshold(pic, threshold):\n",
    "    return ((pic < threshold) * 255).astype('uint8')"
   ]
  },
  {
   "cell_type": "markdown",
   "metadata": {},
   "source": [
    "### Image segmentation stuff"
   ]
  },
  {
   "cell_type": "code",
   "execution_count": 3,
   "metadata": {},
   "outputs": [],
   "source": [
    "def distance(a, b):\n",
    "    return np.abs(a-b)\n",
    "\n",
    "def region_growing_average(img, img_t, tolerance, seed, region_n): \n",
    "    x = seed[0]; y = seed[1]\n",
    "    img_t[x, y] = region_n\n",
    "    avg = np.mean(img[np.where(img_t==region_n)])\n",
    "    \n",
    "    # check matrix border and conquering criterion for the 4-neigbourhood\n",
    "    if (y+1 < img.shape[1] and img_t[x,y+1] == 0 and distance(avg, img[x, y+1]) <= tolerance):\n",
    "        region_growing_average(img, img_t, tolerance, [x, y+1], region_n)\n",
    "        \n",
    "    if (y-1 >= 0 and img_t[x,y-1] == 0  and distance(avg, img[x, y-1]) <= tolerance):\n",
    "        region_growing_average(img, img_t, tolerance, [x, y-1], region_n)\n",
    "        \n",
    "    if (x+1 < img.shape[0] and img_t[x+1,y] == 0  and distance(avg, img[x+1, y]) <= tolerance):\n",
    "        region_growing_average(img, img_t, tolerance, [x+1, y], region_n)\n",
    "        \n",
    "    if (x-1 >= 0 and img_t[x-1,y] == 0  and distance(avg, img[x-1, y]) <= tolerance):\n",
    "        region_growing_average(img, img_t, tolerance, [x-1, y], region_n)\n",
    "        \n",
    "def do_segmentation(image, thresh):\n",
    "    segment_matrix = np.zeros(image.shape)\n",
    "    region_counter = 1\n",
    "    \n",
    "    #Will check if region is above some treshold\n",
    "    for x in range(image.shape[0]):\n",
    "        for y in range(image.shape[1]):\n",
    "            pixel_val = image[x, y]\n",
    "            if segment_matrix[x, y] == 0 and pixel_val >= thresh: #in case not assigned yet\n",
    "                #print(\"Pixel {} above threshold\".format((x,y)))\n",
    "                region_growing_average(image, segment_matrix, 10, (x, y), region_counter)\n",
    "                region_counter += 1\n",
    "                print(\"X: {} Y: {} Region: {}\".format(x,y,region_counter))\n",
    "    #print(\"Segmented regions: {}\".format(region_counter))\n",
    "    return segment_matrix"
   ]
  },
  {
   "cell_type": "code",
   "execution_count": 4,
   "metadata": {},
   "outputs": [],
   "source": [
    "def get_bounding_rectangle(segment_matrix, segment_number):\n",
    "    segment_indexes = np.where(segment_matrix == segment_number)\n",
    "    max_x = segment_indexes[0].max()\n",
    "    min_x = segment_indexes[0].min()\n",
    "    max_y = segment_indexes[1].max()\n",
    "    min_y = segment_indexes[1].min()\n",
    "    return (min_x, max_x, min_y, max_y)"
   ]
  },
  {
   "cell_type": "code",
   "execution_count": 5,
   "metadata": {},
   "outputs": [],
   "source": [
    "def main(filename):\n",
    "    pic = imageio.imread(filename)\n",
    "    gray = lambda rgb : np.dot(rgb[... , :3] , [0.21 , 0.72, 0.07])\n",
    "\n",
    "    plt.figure(figsize=(12,12))\n",
    "    plt.title(\"Original\")\n",
    "    plt.imshow(pic, cmap='gray')\n",
    "    plt.axis('off')\n",
    "    \n",
    "    bin_img = threshold(gray(pic), otsu_threshold(pic))\n",
    "    plt.figure(figsize=(12,12))\n",
    "    plt.title(\"Binarized\")\n",
    "    plt.imshow(bin_img, cmap='gray')\n",
    "    plt.axis('off')\n",
    "\n",
    "    lines = kernel_horizontal(bin_img)\n",
    "    plt.figure(figsize=(12,12))\n",
    "    plt.title(\"Lines\")\n",
    "    plt.imshow(lines, cmap='gray')\n",
    "    plt.axis('off')\n",
    "    #Here it would be nice if we segmented the lines.\n",
    "    \"\"\"segmented_lines = do_segmentation(lines, otsu_threshold(pic))\n",
    "\n",
    "    plt.figure(figsize=(20,20))\n",
    "    plt.title(\"Segmented\")\n",
    "    plt.imshow(segmented_lines, cmap='magma')\n",
    "    plt.axis('off')\n",
    "    \"\"\"\n",
    "    bin_img[lines == 255] = 0 \n",
    "    plt.figure(figsize=(12,12))\n",
    "    plt.title(\"Lines removed\")\n",
    "    plt.imshow(bin_img, cmap='gray')\n",
    "    plt.axis('off')\n",
    "    \"\"\"\n",
    "    blurred = cv2.medianBlur(bin_img, 5)\n",
    "    plt.figure(figsize=(12,12))\n",
    "    plt.title(\"Blurred\")\n",
    "    plt.imshow(blurred, cmap='gray')\n",
    "    plt.axis('off')\n",
    "    \"\"\"\n",
    "\n",
    "    #Morphological closing.\n",
    "    kernel = np.ones((4,1),np.uint8)\n",
    "    closing = cv2.morphologyEx(bin_img, cv2.MORPH_CLOSE, kernel)\n",
    "\n",
    "    plt.figure(figsize=(12,12))\n",
    "    plt.title(\"Morphological Close\")\n",
    "    plt.imshow(closing, cmap='gray')\n",
    "    plt.axis('off')\n",
    "    segmented_notes = do_segmentation(closing, otsu_threshold(pic))\n",
    "    \n",
    "    mask = np.zeros(segmented_notes.shape)\n",
    "    mask[segmented_notes > 0] = 1\n",
    "    \n",
    "    plt.figure(figsize=(20,20))\n",
    "    plt.title(\"Segmented\")\n",
    "    plt.imshow(segmented_notes, cmap='magma')\n",
    "    plt.axis('off')\n",
    "\n",
    "    plt.figure(figsize=(20,20))\n",
    "    plt.title(\"Mask\")\n",
    "    plt.imshow(mask, cmap='gray')\n",
    "    plt.axis('off')\n",
    "\n",
    "    #Dilating image now...\n",
    "    kernel_dilate = np.ones((3,3),np.uint8)\n",
    "    dilated_mask = cv2.dilate(mask, kernel_dilate)\n",
    "    \n",
    "    plt.figure(figsize=(20,20))\n",
    "    plt.title(\"Dilated mask\")\n",
    "    plt.imshow(dilated_mask, cmap='gray')\n",
    "    plt.axis('off')\n",
    "    \n",
    "    #Notes on observation. Just wrong to be here but easier.\n",
    "    #interest_notes = [86]#[1, 7, 8, 9, 13, 14, 15, 19, 21]\n",
    "    \n",
    "    bounding_boxes = []\n",
    "    \n",
    "    for region in np.unique(segmented_notes):\n",
    "        ranges = get_bounding_rectangle(segmented_notes, region)\n",
    "        bounding_boxes.append(ranges)\n",
    "    \"\"\"\n",
    "        print(\"Reg. {} Ranges are {}\".format(region, ranges))\n",
    "        temp = np.copy(closing)\n",
    "        img = temp[ranges[0]:ranges[1],ranges[2]:ranges[3]]\n",
    "        if region in interest_notes:\n",
    "            #then lets save this...\n",
    "            save_str = \"../datasets/minim/{}.png\".format(region)\n",
    "            print(\"Saving to\" + save_str)\n",
    "            imageio.imwrite(save_str, img)\n",
    "        plt.figure(figsize=(1,1))\n",
    "        plt.title(\"Figure nº {}\".format(region))\n",
    "        plt.imshow(img, cmap='gray')\n",
    "        plt.axis('off')\n",
    "    \"\"\"\n",
    "    #plt.show()\n",
    "    clf = Classify_notes(closing, bounding_boxes)\n",
    "    print(list(clf.get_classified_notes()))"
   ]
  },
  {
   "cell_type": "code",
   "execution_count": 6,
   "metadata": {
    "scrolled": false
   },
   "outputs": [
    {
     "name": "stdout",
     "output_type": "stream",
     "text": [
      "[[1 1 1 1 1 1 1 1 1 1 1 1 1 1 1 1 1 1 1 1 1 1 1 1 1 1 1 1 1 1 1 1 1 1 1 1\n",
      "  1 1 1 1]]\n",
      "X: 4 Y: 34 Region: 2\n",
      "X: 10 Y: 78 Region: 3\n",
      "X: 10 Y: 96 Region: 4\n",
      "X: 20 Y: 43 Region: 5\n",
      "X: 27 Y: 43 Region: 6\n",
      "X: 55 Y: 37 Region: 7\n",
      "X: 60 Y: 235 Region: 8\n",
      "X: 60 Y: 326 Region: 9\n",
      "X: 60 Y: 417 Region: 10\n",
      "X: 74 Y: 5 Region: 11\n",
      "X: 76 Y: 82 Region: 12\n",
      "X: 76 Y: 493 Region: 13\n",
      "X: 76 Y: 624 Region: 14\n",
      "X: 76 Y: 715 Region: 15\n",
      "X: 76 Y: 806 Region: 16\n",
      "X: 76 Y: 882 Region: 17\n",
      "X: 76 Y: 1179 Region: 18\n",
      "X: 76 Y: 1187 Region: 19\n",
      "X: 82 Y: 533 Region: 20\n",
      "X: 91 Y: 1023 Region: 21\n",
      "X: 105 Y: 139 Region: 22\n",
      "../assets/reference/crotchet/0.png\n",
      "../assets/reference/crotchet/1.png\n",
      "../assets/reference/crotchet/2.png\n",
      "../assets/reference/crotchet/3.png\n",
      "../assets/reference/crotchet/4.png\n",
      "../assets/reference/crotchet/5.png\n",
      "../assets/reference/crotchet/6.png\n",
      "../assets/reference/crotchet/7.png\n",
      "../assets/reference/crotchet/8.png\n",
      "../assets/reference/crotchet/9.png\n",
      "../assets/reference/crotchet/10.png\n",
      "../assets/reference/crotchet/11.png\n",
      "../assets/reference/crotchet/12.png\n",
      "../assets/reference/crotchet/13.png\n",
      "../assets/reference/crotchet/14.png\n",
      "(0.26365171053515035, 0.3864162794108121, 22.02462394105352)\n",
      "../assets/reference/treble/0.png\n",
      "(0.3197324414715719, 0.35384615384615387, 34.29288702928871)\n",
      "Error: [0.23672044954893517, 6.28580594281141, 262.26101673225463]\n",
      "Imagem passou no crivo de aristóteles!\n"
     ]
    },
    {
     "data": {
      "image/png": "[encoded data removed]",
      "text/plain": [
       "<Figure size 864x864 with 1 Axes>"
      ]
     },
     "metadata": {
      "needs_background": "light"
     },
     "output_type": "display_data"
    },
    {
     "data": {
      "image/png": "[encoded data removed]",
      "text/plain": [
       "<Figure size 864x864 with 1 Axes>"
      ]
     },
     "metadata": {
      "needs_background": "light"
     },
     "output_type": "display_data"
    },
    {
     "data": {
      "image/png": "[encoded data removed]",
      "text/plain": [
       "<Figure size 864x864 with 1 Axes>"
      ]
     },
     "metadata": {
      "needs_background": "light"
     },
     "output_type": "display_data"
    },
    {
     "data": {
      "image/png": "[encoded data removed]",
      "text/plain": [
       "<Figure size 864x864 with 1 Axes>"
      ]
     },
     "metadata": {
      "needs_background": "light"
     },
     "output_type": "display_data"
    },
    {
     "data": {
      "image/png": "[encoded data removed]",
      "text/plain": [
       "<Figure size 864x864 with 1 Axes>"
      ]
     },
     "metadata": {
      "needs_background": "light"
     },
     "output_type": "display_data"
    },
    {
     "data": {
      "image/png": "[encoded data removed]",
      "text/plain": [
       "<Figure size 1440x1440 with 1 Axes>"
      ]
     },
     "metadata": {
      "needs_background": "light"
     },
     "output_type": "display_data"
    },
    {
     "data": {
      "image/png": "[encoded data removed]",
      "text/plain": [
       "<Figure size 1440x1440 with 1 Axes>"
      ]
     },
     "metadata": {
      "needs_background": "light"
     },
     "output_type": "display_data"
    },
    {
     "data": {
      "image/png": "[encoded data removed]",
      "text/plain": [
       "<Figure size 1440x1440 with 1 Axes>"
      ]
     },
     "metadata": {
      "needs_background": "light"
     },
     "output_type": "display_data"
    },
    {
     "data": {
      "image/png": "[encoded data removed]",
      "text/plain": [
       "<Figure size 432x288 with 1 Axes>"
      ]
     },
     "metadata": {
      "needs_background": "light"
     },
     "output_type": "display_data"
    },
    {
     "name": "stdout",
     "output_type": "stream",
     "text": [
      "Error: [0.04986180297836318, 0.018989125994593348, 12.288991757145475]\n",
      "Imagem passou no crivo de aristóteles!\n"
     ]
    },
    {
     "data": {
      "image/png": "[encoded data removed]",
      "text/plain": [
       "<Figure size 432x288 with 1 Axes>"
      ]
     },
     "metadata": {
      "needs_background": "light"
     },
     "output_type": "display_data"
    },
    {
     "name": "stdout",
     "output_type": "stream",
     "text": [
      "Error: [0.004724624900441121, 0.022391469916222373, 16.820429761447436]\n",
      "Imagem passou no crivo de aristóteles!\n"
     ]
    },
    {
     "data": {
      "image/png": "[encoded data removed]",
      "text/plain": [
       "<Figure size 432x288 with 1 Axes>"
      ]
     },
     "metadata": {
      "needs_background": "light"
     },
     "output_type": "display_data"
    },
    {
     "name": "stdout",
     "output_type": "stream",
     "text": [
      "Error: [0.0426695676780075, 0.10070199369652638, 8.524623941053521]\n",
      "Imagem passou no crivo de aristóteles!\n"
     ]
    },
    {
     "data": {
      "image/png": "[encoded data removed]",
      "text/plain": [
       "<Figure size 432x288 with 1 Axes>"
      ]
     },
     "metadata": {
      "needs_background": "light"
     },
     "output_type": "display_data"
    },
    {
     "name": "stdout",
     "output_type": "stream",
     "text": [
      "Error: [0.04831557608136883, 0.08284485083938353, 8.24413613617547]\n",
      "Imagem passou no crivo de aristóteles!\n"
     ]
    },
    {
     "data": {
      "image/png": "[encoded data removed]",
      "text/plain": [
       "<Figure size 432x288 with 1 Axes>"
      ]
     },
     "metadata": {
      "needs_background": "light"
     },
     "output_type": "display_data"
    },
    {
     "name": "stdout",
     "output_type": "stream",
     "text": [
      "Error: [0.04155349624943608, 0.10070199369652638, 8.331156604370102]\n",
      "Imagem passou no crivo de aristóteles!\n"
     ]
    },
    {
     "data": {
      "image/png": "[encoded data removed]",
      "text/plain": [
       "<Figure size 432x288 with 1 Axes>"
      ]
     },
     "metadata": {
      "needs_background": "light"
     },
     "output_type": "display_data"
    },
    {
     "name": "stdout",
     "output_type": "stream",
     "text": [
      "Error: [0.03296989235333217, 0.09550718850172119, 8.418712611004262]\n",
      "Imagem passou no crivo de aristóteles!\n"
     ]
    },
    {
     "data": {
      "image/png": "[encoded data removed]",
      "text/plain": [
       "<Figure size 432x288 with 1 Axes>"
      ]
     },
     "metadata": {
      "needs_background": "light"
     },
     "output_type": "display_data"
    },
    {
     "name": "stdout",
     "output_type": "stream",
     "text": [
      "Error: [0.0341062559896958, 0.09550718850172119, 8.440465525211936]\n",
      "Imagem passou no crivo de aristóteles!\n"
     ]
    },
    {
     "data": {
      "image/png": "[encoded data removed]",
      "text/plain": [
       "<Figure size 432x288 with 1 Axes>"
      ]
     },
     "metadata": {
      "needs_background": "light"
     },
     "output_type": "display_data"
    },
    {
     "name": "stdout",
     "output_type": "stream",
     "text": [
      "Error: [0.001588931176079611, 0.077325370319903, 6.153656199118036]\n",
      "Imagem passou no crivo de aristóteles!\n"
     ]
    },
    {
     "data": {
      "image/png": "[encoded data removed]",
      "text/plain": [
       "<Figure size 432x288 with 1 Axes>"
      ]
     },
     "metadata": {
      "needs_background": "light"
     },
     "output_type": "display_data"
    },
    {
     "name": "stdout",
     "output_type": "stream",
     "text": [
      "Error: [0.037645518584685955, 0.08817066537572438, 9.673025767537538]\n",
      "Imagem passou no crivo de aristóteles!\n"
     ]
    },
    {
     "data": {
      "image/png": "[encoded data removed]",
      "text/plain": [
       "<Figure size 432x288 with 1 Axes>"
      ]
     },
     "metadata": {
      "needs_background": "light"
     },
     "output_type": "display_data"
    },
    {
     "name": "stdout",
     "output_type": "stream",
     "text": [
      "Error: [0.042988445229027894, 0.11358372058918792, 6.958149952614214]\n",
      "Imagem passou no crivo de aristóteles!\n"
     ]
    },
    {
     "data": {
      "image/png": "[encoded data removed]",
      "text/plain": [
       "<Figure size 432x288 with 1 Axes>"
      ]
     },
     "metadata": {
      "needs_background": "light"
     },
     "output_type": "display_data"
    },
    {
     "name": "stdout",
     "output_type": "stream",
     "text": [
      "[('crotchet',), ('crotchet',), ('treble',), ('crotchet',), ('crotchet',), ('crotchet',), ('crotchet',), ('crotchet',), ('crotchet',), ('crotchet',), ('crotchet',)]\n"
     ]
    }
   ],
   "source": [
    "file1 = \"../assets/songtron_test_0.png\"\n",
    "main(file1)"
   ]
  },
  {
   "cell_type": "code",
   "execution_count": null,
   "metadata": {
    "scrolled": false
   },
   "outputs": [
    {
     "name": "stdout",
     "output_type": "stream",
     "text": [
      "[[1 1 1 1 1 1 1 1 1 1 1 1 1 1 1 1 1 1 1 1 1 1 1 1]]\n",
      "X: 11 Y: 33 Region: 2\n",
      "X: 15 Y: 594 Region: 3\n",
      "X: 15 Y: 680 Region: 4\n",
      "X: 15 Y: 706 Region: 5\n",
      "X: 16 Y: 53 Region: 6\n",
      "X: 18 Y: 556 Region: 7\n",
      "X: 19 Y: 142 Region: 8\n",
      "X: 19 Y: 237 Region: 9\n",
      "X: 19 Y: 617 Region: 10\n",
      "X: 20 Y: 262 Region: 11\n",
      "X: 20 Y: 333 Region: 12\n",
      "X: 20 Y: 407 Region: 13\n",
      "X: 20 Y: 454 Region: 14\n",
      "X: 20 Y: 498 Region: 15\n",
      "X: 20 Y: 534 Region: 16\n",
      "X: 24 Y: 67 Region: 17\n",
      "X: 25 Y: 22 Region: 18\n",
      "X: 26 Y: 46 Region: 19\n",
      "X: 26 Y: 90 Region: 20\n",
      "X: 26 Y: 124 Region: 21\n",
      "X: 26 Y: 168 Region: 22\n",
      "X: 26 Y: 180 Region: 23\n",
      "X: 26 Y: 205 Region: 24\n",
      "X: 26 Y: 219 Region: 25\n",
      "X: 26 Y: 270 Region: 26\n",
      "X: 26 Y: 282 Region: 27\n",
      "X: 26 Y: 307 Region: 28\n",
      "X: 26 Y: 344 Region: 29\n",
      "X: 26 Y: 356 Region: 30\n",
      "X: 26 Y: 381 Region: 31\n",
      "X: 26 Y: 418 Region: 32\n",
      "X: 26 Y: 430 Region: 33\n",
      "X: 26 Y: 465 Region: 34\n",
      "X: 26 Y: 481 Region: 35\n",
      "X: 26 Y: 510 Region: 36\n",
      "X: 26 Y: 543 Region: 37\n",
      "X: 26 Y: 629 Region: 38\n",
      "X: 26 Y: 715 Region: 39\n",
      "X: 28 Y: 100 Region: 40\n",
      "X: 32 Y: 22 Region: 41\n",
      "X: 33 Y: 0 Region: 42\n",
      "X: 35 Y: 642 Region: 43\n",
      "X: 37 Y: 3 Region: 44\n",
      "X: 37 Y: 6 Region: 45\n",
      "X: 38 Y: 22 Region: 46\n",
      "X: 42 Y: 100 Region: 47\n",
      "X: 42 Y: 145 Region: 48\n",
      "X: 45 Y: 22 Region: 49\n",
      "X: 52 Y: 22 Region: 50\n",
      "X: 55 Y: 145 Region: 51\n",
      "X: 98 Y: 588 Region: 52\n",
      "X: 104 Y: 83 Region: 53\n",
      "X: 110 Y: 82 Region: 54\n",
      "X: 111 Y: 577 Region: 55\n",
      "X: 113 Y: 20 Region: 56\n",
      "X: 113 Y: 376 Region: 57\n",
      "X: 113 Y: 657 Region: 58\n",
      "X: 114 Y: 80 Region: 59\n",
      "X: 114 Y: 412 Region: 60\n",
      "X: 114 Y: 531 Region: 61\n",
      "X: 114 Y: 595 Region: 62\n",
      "X: 116 Y: 5 Region: 63\n",
      "X: 116 Y: 10 Region: 64\n",
      "X: 117 Y: 40 Region: 65\n",
      "X: 117 Y: 140 Region: 66\n",
      "X: 117 Y: 255 Region: 67\n",
      "X: 117 Y: 291 Region: 68\n",
      "X: 117 Y: 698 Region: 69\n",
      "X: 118 Y: 94 Region: 70\n",
      "X: 120 Y: 182 Region: 71\n",
      "X: 122 Y: 322 Region: 72\n",
      "X: 126 Y: 8 Region: 73\n",
      "X: 127 Y: 9 Region: 74\n",
      "X: 128 Y: 33 Region: 75\n",
      "X: 128 Y: 194 Region: 76\n",
      "X: 128 Y: 303 Region: 77\n",
      "X: 128 Y: 430 Region: 78\n",
      "X: 128 Y: 547 Region: 79\n",
      "X: 128 Y: 715 Region: 80\n",
      "X: 131 Y: 306 Region: 81\n",
      "X: 131 Y: 501 Region: 82\n",
      "X: 131 Y: 599 Region: 83\n",
      "X: 133 Y: 8 Region: 84\n",
      "X: 134 Y: 440 Region: 85\n",
      "X: 134 Y: 490 Region: 86\n",
      "X: 137 Y: 207 Region: 87\n",
      "X: 140 Y: 8 Region: 88\n",
      "X: 147 Y: 8 Region: 89\n",
      "X: 154 Y: 8 Region: 90\n",
      "X: 209 Y: 601 Region: 91\n",
      "X: 211 Y: 662 Region: 92\n",
      "X: 214 Y: 20 Region: 93\n",
      "X: 214 Y: 219 Region: 94\n",
      "X: 214 Y: 277 Region: 95\n",
      "X: 214 Y: 319 Region: 96\n",
      "X: 214 Y: 351 Region: 97\n",
      "X: 214 Y: 389 Region: 98\n",
      "X: 214 Y: 447 Region: 99\n",
      "X: 214 Y: 512 Region: 100\n",
      "X: 214 Y: 553 Region: 101\n",
      "X: 214 Y: 586 Region: 102\n",
      "X: 214 Y: 700 Region: 103\n",
      "X: 215 Y: 114 Region: 104\n",
      "X: 218 Y: 4 Region: 105\n",
      "X: 218 Y: 251 Region: 106\n",
      "X: 218 Y: 402 Region: 107\n",
      "X: 218 Y: 484 Region: 108\n",
      "X: 218 Y: 613 Region: 109\n",
      "X: 219 Y: 9 Region: 110\n",
      "X: 219 Y: 40 Region: 111\n",
      "X: 219 Y: 134 Region: 112\n",
      "X: 220 Y: 11 Region: 113\n",
      "X: 221 Y: 12 Region: 114\n",
      "X: 226 Y: 182 Region: 115\n",
      "X: 228 Y: 8 Region: 116\n",
      "X: 229 Y: 164 Region: 117\n",
      "X: 229 Y: 264 Region: 118\n",
      "X: 229 Y: 363 Region: 119\n",
      "X: 229 Y: 498 Region: 120\n",
      "X: 229 Y: 598 Region: 121\n",
      "X: 229 Y: 715 Region: 122\n",
      "X: 230 Y: 33 Region: 123\n",
      "X: 233 Y: 80 Region: 124\n",
      "X: 235 Y: 8 Region: 125\n",
      "X: 236 Y: 60 Region: 126\n",
      "X: 242 Y: 8 Region: 127\n",
      "X: 243 Y: 84 Region: 128\n",
      "X: 249 Y: 8 Region: 129\n",
      "X: 250 Y: 391 Region: 130\n",
      "X: 256 Y: 8 Region: 131\n",
      "../assets/reference/crotchet/0.png\n",
      "../assets/reference/crotchet/1.png\n",
      "../assets/reference/crotchet/2.png\n",
      "../assets/reference/crotchet/3.png\n",
      "../assets/reference/crotchet/4.png\n",
      "../assets/reference/crotchet/5.png\n",
      "../assets/reference/crotchet/6.png\n",
      "../assets/reference/crotchet/7.png\n",
      "../assets/reference/crotchet/8.png\n",
      "../assets/reference/crotchet/9.png\n",
      "../assets/reference/crotchet/10.png\n",
      "../assets/reference/crotchet/11.png\n",
      "../assets/reference/crotchet/12.png\n",
      "../assets/reference/crotchet/13.png\n",
      "../assets/reference/crotchet/14.png\n",
      "(0.26365171053515035, 0.3864162794108121, 22.02462394105352)\n",
      "../assets/reference/treble/0.png\n",
      "(0.3197324414715719, 0.35384615384615387, 34.29288702928871)\n",
      "Error: [0.19600824289168273, 2.3098800168854843, 445.4570998856613]\n",
      "Imagem passou no crivo de aristóteles!\n"
     ]
    },
    {
     "data": {
      "image/png": "[encoded data removed]",
      "text/plain": [
       "<Figure size 864x864 with 1 Axes>"
      ]
     },
     "metadata": {
      "needs_background": "light"
     },
     "output_type": "display_data"
    },
    {
     "data": {
      "image/png": "[encoded data removed]",
      "text/plain": [
       "<Figure size 864x864 with 1 Axes>"
      ]
     },
     "metadata": {
      "needs_background": "light"
     },
     "output_type": "display_data"
    },
    {
     "data": {
      "image/png": "[encoded data removed]",
      "text/plain": [
       "<Figure size 864x864 with 1 Axes>"
      ]
     },
     "metadata": {
      "needs_background": "light"
     },
     "output_type": "display_data"
    },
    {
     "data": {
      "image/png": "[encoded data removed]",
      "text/plain": [
       "<Figure size 864x864 with 1 Axes>"
      ]
     },
     "metadata": {
      "needs_background": "light"
     },
     "output_type": "display_data"
    },
    {
     "data": {
      "image/png": "[encoded data removed]",
      "text/plain": [
       "<Figure size 864x864 with 1 Axes>"
      ]
     },
     "metadata": {
      "needs_background": "light"
     },
     "output_type": "display_data"
    },
    {
     "data": {
      "image/png": "[encoded data removed]",
      "text/plain": [
       "<Figure size 1440x1440 with 1 Axes>"
      ]
     },
     "metadata": {
      "needs_background": "light"
     },
     "output_type": "display_data"
    },
    {
     "data": {
      "image/png": "[encoded data removed]",
      "text/plain": [
       "<Figure size 1440x1440 with 1 Axes>"
      ]
     },
     "metadata": {
      "needs_background": "light"
     },
     "output_type": "display_data"
    },
    {
     "data": {
      "image/png": "[encoded data removed]",
      "text/plain": [
       "<Figure size 1440x1440 with 1 Axes>"
      ]
     },
     "metadata": {
      "needs_background": "light"
     },
     "output_type": "display_data"
    },
    {
     "data": {
      "image/png": "[encoded data removed]",
      "text/plain": [
       "<Figure size 432x288 with 1 Axes>"
      ]
     },
     "metadata": {
      "needs_background": "light"
     },
     "output_type": "display_data"
    },
    {
     "name": "stdout",
     "output_type": "stream",
     "text": [
      "Error: [0.027184474067913883, 0.1556470486415813, 10.69932273623424]\n",
      "Imagem passou no crivo de aristóteles!\n"
     ]
    },
    {
     "data": {
      "image/png": "[encoded data removed]",
      "text/plain": [
       "<Figure size 432x288 with 1 Axes>"
      ]
     },
     "metadata": {
      "needs_background": "light"
     },
     "output_type": "display_data"
    },
    {
     "name": "stdout",
     "output_type": "stream",
     "text": [
      "Error: [0.038580485463925285, 0.1556470486415813, 10.265130270167445]\n",
      "Imagem passou no crivo de aristóteles!\n"
     ]
    },
    {
     "data": {
      "image/png": "[encoded data removed]",
      "text/plain": [
       "<Figure size 432x288 with 1 Axes>"
      ]
     },
     "metadata": {
      "needs_background": "light"
     },
     "output_type": "display_data"
    },
    {
     "name": "stdout",
     "output_type": "stream",
     "text": [
      "Error: [0.038580485463925285, 0.1556470486415813, 10.265130270167445]\n",
      "Imagem passou no crivo de aristóteles!\n"
     ]
    },
    {
     "data": {
      "image/png": "[encoded data removed]",
      "text/plain": [
       "<Figure size 432x288 with 1 Axes>"
      ]
     },
     "metadata": {
      "needs_background": "light"
     },
     "output_type": "display_data"
    },
    {
     "name": "stdout",
     "output_type": "stream",
     "text": [
      "Error: [0.027184474067913883, 0.1556470486415813, 10.69932273623424]\n",
      "Imagem passou no crivo de aristóteles!\n"
     ]
    },
    {
     "data": {
      "image/png": "[encoded data removed]",
      "text/plain": [
       "<Figure size 432x288 with 1 Axes>"
      ]
     },
     "metadata": {
      "needs_background": "light"
     },
     "output_type": "display_data"
    }
   ],
   "source": [
    "file2 = \"../assets/danse_macabre_cut_0.png\"\n",
    "main(file2)"
   ]
  },
  {
   "cell_type": "code",
   "execution_count": null,
   "metadata": {
    "scrolled": false
   },
   "outputs": [],
   "source": [
    "file3 = \"../assets/asa_branca.jpg\"\n",
    "main(file3)"
   ]
  },
  {
   "cell_type": "markdown",
   "metadata": {},
   "source": [
    "# Just lines here lol"
   ]
  },
  {
   "cell_type": "code",
   "execution_count": null,
   "metadata": {},
   "outputs": [],
   "source": [
    "#so this function will only find lines' height\n",
    "#image should suffer some dilation...\n",
    "def find_lines_height(img, thresh):\n",
    "    lines_found_heights = []\n",
    "    x,y = img.shape\n",
    "    search_y = y//2\n",
    "    inside_line = False\n",
    "    \n",
    "    for temp_x in range(x):\n",
    "        if img[temp_x, search_y] > thresh: #were are in a white pixel\n",
    "            print(\"Pixel {} is above thresh.\".format((temp_x, search_y)))\n",
    "            if not inside_line:\n",
    "                lines_found_heights.append(temp_x)\n",
    "            inside_line = True\n",
    "        else:\n",
    "            inside_line = False\n",
    "\n",
    "    return lines_found_heights"
   ]
  },
  {
   "cell_type": "code",
   "execution_count": null,
   "metadata": {},
   "outputs": [],
   "source": [
    "filename = \"../assets/songtron_test_0.png\"\n",
    "pic = imageio.imread(filename)\n",
    "gray = lambda rgb : np.dot(rgb[... , :3] , [0.21 , 0.72, 0.07])\n",
    "\n",
    "plt.figure(figsize=(12,12))\n",
    "plt.title(\"Original\")\n",
    "plt.imshow(pic, cmap='gray')\n",
    "plt.axis('off')\n",
    "\n",
    "bin_img = threshold(gray(pic), otsu_threshold(pic))\n",
    "plt.figure(figsize=(12,12))\n",
    "plt.title(\"Binarized\")\n",
    "plt.imshow(bin_img, cmap='gray')\n",
    "plt.axis('off')\n",
    "\n",
    "lines = kernel_horizontal(bin_img)\n",
    "plt.figure(figsize=(12,12))\n",
    "plt.title(\"Lines\")\n",
    "plt.imshow(lines, cmap='gray')\n",
    "plt.axis('off')\n",
    "\n",
    "#Morphological closing.\n",
    "lines_kernel = np.ones((4,1),np.uint8)\n",
    "dilated_lines = cv2.dilate(lines, lines_kernel, iterations=1)\n",
    "\n",
    "plt.figure(figsize=(20,20))\n",
    "plt.title(\"Dilated\")\n",
    "plt.imshow(dilated_lines, cmap='gray')\n",
    "plt.axis('off')\n",
    "\n",
    "#Here it would be nice if we segmented the lines.\n",
    "\"\"\"segmented_lines = do_segmentation(lines, otsu_threshold(pic))\n",
    "\n",
    "plt.figure(figsize=(20,20))\n",
    "plt.title(\"Segmented\")\n",
    "plt.imshow(segmented_lines, cmap='magma')\n",
    "plt.axis('off')\n",
    "\"\"\"\n",
    "\n",
    "lines_h = find_lines_height(dilated_lines,otsu_threshold(pic))\n",
    "lines_h"
   ]
  },
  {
   "cell_type": "code",
   "execution_count": null,
   "metadata": {},
   "outputs": [],
   "source": []
  },
  {
   "cell_type": "code",
   "execution_count": null,
   "metadata": {},
   "outputs": [],
   "source": []
  }
 ],
 "metadata": {
  "kernelspec": {
   "display_name": "Python 3",
   "language": "python",
   "name": "python3"
  },
  "language_info": {
   "codemirror_mode": {
    "name": "ipython",
    "version": 3
   },
   "file_extension": ".py",
   "mimetype": "text/x-python",
   "name": "python",
   "nbconvert_exporter": "python",
   "pygments_lexer": "ipython3",
   "version": "3.7.4"
  }
 },
 "nbformat": 4,
 "nbformat_minor": 4
}
