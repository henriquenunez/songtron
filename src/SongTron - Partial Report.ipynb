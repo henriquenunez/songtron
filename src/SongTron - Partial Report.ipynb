{
 "cells": [
  {
   "cell_type": "markdown",
   "metadata": {},
   "source": [
    "# SongTron"
   ]
  },
  {
   "cell_type": "code",
   "execution_count": 3,
   "metadata": {},
   "outputs": [],
   "source": [
    "\"\"\"\n",
    "def binarize(image):\n",
    "    #Binarizing image\n",
    "    arr = image.flatten()\n",
    "    mean = arr.mean()\n",
    "    print(\"mean: {}\".format(mean))\n",
    "\n",
    "\"\"\"\n",
    "import imageio\n",
    "import numpy as np\n",
    "import matplotlib.pyplot as plt\n",
    "import cv2"
   ]
  },
  {
   "cell_type": "code",
   "execution_count": 4,
   "metadata": {},
   "outputs": [],
   "source": [
    "def kernel_horizontal(bin_im):\n",
    "    horizontal = np.copy(bin_im)\n",
    "    rows = horizontal.shape[1]\n",
    "    size = rows//30\n",
    "    structure = cv2.getStructuringElement(cv2.MORPH_RECT, (size, 1))\n",
    "    print(structure)\n",
    "    horizontal = cv2.erode(horizontal, structure)\n",
    "    horizontal = cv2.dilate(horizontal, structure)\n",
    "    return horizontal\n",
    "\n",
    "def conv2d_image(f, w):\n",
    "    N, M = f.shape[0:2]\n",
    "    n, m = w.shape[0:2]\n",
    "    w_flip = np.flip(np.flip(w, 0), 1)\n",
    "    a = n//2  # floor of n/2\n",
    "    b = m//2  # floor of m/2\n",
    "    g = np.zeros(f.shape, dtype=np.float)\n",
    "    for x in range(a, N-a):\n",
    "        for y in range(b, M-b):\n",
    "            region_f = f[x-a:x+(a+1), y-b:y+(b+1)]\n",
    "            g[x][y] = np.sum(np.multiply(region_f.astype(np.float), w_flip.astype(np.float)))\n",
    "    return g\n",
    "\n",
    "\n",
    "def otsu_threshold(im):\n",
    "\n",
    "    # Compute histogram and probabilities of each intensity level\n",
    "    pixel_counts = [np.sum(im == i) for i in range(256)]\n",
    "    n, m = im.shape[0:2]\n",
    "    # Initialization\n",
    "    s_max = (0,0)\n",
    "\n",
    "    for threshold in range(256):\n",
    "\n",
    "        # update\n",
    "        w_0 = sum(pixel_counts[:threshold])\n",
    "        w_1 = sum(pixel_counts[threshold:])\n",
    "\n",
    "        mu_0 = sum([i * pixel_counts[i] for i in range(0,threshold)])\\\n",
    "                        / w_0 if w_0 > 0 else 0\n",
    "        mu_1 = sum([i * pixel_counts[i] for i in range(threshold, 256)])\\\n",
    "                        / w_1 if w_1 > 0 else 0\n",
    "\n",
    "        # calculate - inter class variance\n",
    "        s = w_0 * w_1 * (mu_0 - mu_1) ** 2\n",
    "\n",
    "        if s > s_max[1]:\n",
    "            s_max = (threshold, s)\n",
    "    return s_max[0]\n",
    "\n",
    "def threshold(pic, threshold):\n",
    "    return ((pic < threshold) * 255).astype('uint8')"
   ]
  },
  {
   "cell_type": "markdown",
   "metadata": {},
   "source": [
    "### Image segmentation stuff"
   ]
  },
  {
   "cell_type": "code",
   "execution_count": 5,
   "metadata": {},
   "outputs": [],
   "source": [
    "def distance(a, b):\n",
    "    return np.abs(a-b)\n",
    "\n",
    "def region_growing_average(img, img_t, tolerance, seed, region_n): \n",
    "    x = seed[0]; y = seed[1]\n",
    "    img_t[x, y] = region_n\n",
    "    avg = np.mean(img[np.where(img_t==region_n)])\n",
    "    \n",
    "    # check matrix border and conquering criterion for the 4-neigbourhood\n",
    "    if (y+1 < img.shape[1] and img_t[x,y+1] == 0 and distance(avg, img[x, y+1]) <= tolerance):\n",
    "        region_growing_average(img, img_t, tolerance, [x, y+1], region_n)\n",
    "        \n",
    "    if (y-1 >= 0 and img_t[x,y-1] == 0  and distance(avg, img[x, y-1]) <= tolerance):\n",
    "        region_growing_average(img, img_t, tolerance, [x, y-1], region_n)\n",
    "        \n",
    "    if (x+1 < img.shape[0] and img_t[x+1,y] == 0  and distance(avg, img[x+1, y]) <= tolerance):\n",
    "        region_growing_average(img, img_t, tolerance, [x+1, y], region_n)\n",
    "        \n",
    "    if (x-1 >= 0 and img_t[x-1,y] == 0  and distance(avg, img[x-1, y]) <= tolerance):\n",
    "        region_growing_average(img, img_t, tolerance, [x-1, y], region_n)\n",
    "        \n",
    "def do_segmentation(image, thresh):\n",
    "    segment_matrix = np.zeros(image.shape)\n",
    "    region_counter = 1\n",
    "    \n",
    "    #Will check if region is above some treshold\n",
    "    for x in range(image.shape[0]):\n",
    "        for y in range(image.shape[1]):\n",
    "            pixel_val = image[x, y]\n",
    "            if segment_matrix[x, y] == 0 and pixel_val >= thresh: #in case not assigned yet\n",
    "                print(\"Pixel {} above threshold\".format((x,y)))\n",
    "                region_growing_average(image, segment_matrix, 10, (x, y), region_counter)\n",
    "                region_counter += 1\n",
    "                print(\"X: {} Y: {} Region: {}\".format(x,y,region_counter))\n",
    "    #print(\"Segmented regions: {}\".format(region_counter))\n",
    "    return segment_matrix"
   ]
  },
  {
   "cell_type": "code",
   "execution_count": 6,
   "metadata": {},
   "outputs": [],
   "source": [
    "def get_bounding_rectangle(segment_matrix, segment_number):\n",
    "    segment_indexes = np.where(segment_matrix == segment_number)\n",
    "    max_x = segment_indexes[0].max()\n",
    "    min_x = segment_indexes[0].min()\n",
    "    max_y = segment_indexes[1].max()\n",
    "    min_y = segment_indexes[1].min()\n",
    "    return (min_x, max_x, min_y, max_y)"
   ]
  },
  {
   "cell_type": "code",
   "execution_count": 7,
   "metadata": {},
   "outputs": [],
   "source": [
    "def main(filename):\n",
    "    pic = imageio.imread(filename)\n",
    "    gray = lambda rgb : np.dot(rgb[... , :3] , [0.21 , 0.72, 0.07])\n",
    "\n",
    "    plt.figure(figsize=(12,12))\n",
    "    plt.title(\"Original\")\n",
    "    plt.imshow(pic, cmap='gray')\n",
    "    plt.axis('off')\n",
    "    \n",
    "    bin_img = threshold(gray(pic), otsu_threshold(pic))\n",
    "    plt.figure(figsize=(12,12))\n",
    "    plt.title(\"Binarized\")\n",
    "    plt.imshow(bin_img, cmap='gray')\n",
    "    plt.axis('off')\n",
    "\n",
    "    lines = kernel_horizontal(bin_img)\n",
    "    plt.figure(figsize=(12,12))\n",
    "    plt.title(\"Lines\")\n",
    "    plt.imshow(lines, cmap='gray')\n",
    "    plt.axis('off')\n",
    "    #Here it would be nice if we segmented the lines.\n",
    "    \"\"\"segmented_lines = do_segmentation(lines, otsu_threshold(pic))\n",
    "\n",
    "    plt.figure(figsize=(20,20))\n",
    "    plt.title(\"Segmented\")\n",
    "    plt.imshow(segmented_lines, cmap='magma')\n",
    "    plt.axis('off')\n",
    "    \"\"\"\n",
    "    bin_img[lines == 255] = 0 \n",
    "    plt.figure(figsize=(12,12))\n",
    "    plt.title(\"Lines removed\")\n",
    "    plt.imshow(bin_img, cmap='gray')\n",
    "    plt.axis('off')\n",
    "    \"\"\"\n",
    "    blurred = cv2.medianBlur(bin_img, 5)\n",
    "    plt.figure(figsize=(12,12))\n",
    "    plt.title(\"Blurred\")\n",
    "    plt.imshow(blurred, cmap='gray')\n",
    "    plt.axis('off')\n",
    "    \"\"\"\n",
    "\n",
    "    #Morphological closing.\n",
    "    kernel = np.ones((4,1),np.uint8)\n",
    "    closing = cv2.morphologyEx(bin_img, cv2.MORPH_CLOSE, kernel)\n",
    "\n",
    "    plt.figure(figsize=(12,12))\n",
    "    plt.title(\"Morphological Close\")\n",
    "    plt.imshow(closing, cmap='gray')\n",
    "    plt.axis('off')\n",
    "    segmented_notes = do_segmentation(closing, otsu_threshold(pic))\n",
    "    \n",
    "    mask = np.zeros(segmented_notes.shape)\n",
    "    mask[segmented_notes > 0] = 1\n",
    "    \n",
    "    plt.figure(figsize=(20,20))\n",
    "    plt.title(\"Segmented\")\n",
    "    plt.imshow(segmented_notes, cmap='magma')\n",
    "    plt.axis('off')\n",
    "\n",
    "    plt.figure(figsize=(20,20))\n",
    "    plt.title(\"Mask\")\n",
    "    plt.imshow(mask, cmap='gray')\n",
    "    plt.axis('off')\n",
    "\n",
    "    #Dilating image now...\n",
    "    kernel_dilate = np.ones((3,3),np.uint8)\n",
    "    dilated_mask = cv2.dilate(mask, kernel_dilate)\n",
    "    \n",
    "    plt.figure(figsize=(20,20))\n",
    "    plt.title(\"Dilated mask\")\n",
    "    plt.imshow(dilated_mask, cmap='gray')\n",
    "    plt.axis('off')\n",
    "    \n",
    "    for region in np.unique(segmented_notes):\n",
    "        ranges = get_bounding_rectangle(segmented_notes, region)\n",
    "        print(\"Reg. {} Ranges are {}\".format(region, ranges))\n",
    "        temp = np.copy(closing)\n",
    "        img = temp[ranges[0]:ranges[1],ranges[2]:ranges[3]]\n",
    "        plt.figure(figsize=(4,4))\n",
    "        plt.title(\"Figure nº {}\".format(region))\n",
    "        plt.imshow(img, cmap='gray')\n",
    "        plt.axis('off')\n",
    "    \n",
    "    plt.show()"
   ]
  },
  {
   "cell_type": "code",
   "execution_count": 14,
   "metadata": {
    "scrolled": false
   },
   "outputs": [
    {
     "name": "stdout",
     "output_type": "stream",
     "text": [
      "[[1 1 1 1 1 1 1 1 1 1 1 1 1 1 1 1 1 1 1 1 1 1 1 1 1 1 1 1 1 1 1 1 1 1 1 1\n",
      "  1 1 1 1]]\n",
      "Pixel (4, 34) above threshold\n",
      "X: 4 Y: 34 Region: 2\n",
      "Pixel (10, 78) above threshold\n",
      "X: 10 Y: 78 Region: 3\n",
      "Pixel (10, 96) above threshold\n",
      "X: 10 Y: 96 Region: 4\n",
      "Pixel (20, 43) above threshold\n",
      "X: 20 Y: 43 Region: 5\n",
      "Pixel (27, 43) above threshold\n",
      "X: 27 Y: 43 Region: 6\n",
      "Pixel (55, 37) above threshold\n",
      "X: 55 Y: 37 Region: 7\n",
      "Pixel (60, 235) above threshold\n",
      "X: 60 Y: 235 Region: 8\n",
      "Pixel (60, 326) above threshold\n",
      "X: 60 Y: 326 Region: 9\n",
      "Pixel (60, 417) above threshold\n",
      "X: 60 Y: 417 Region: 10\n",
      "Pixel (74, 5) above threshold\n",
      "X: 74 Y: 5 Region: 11\n",
      "Pixel (76, 82) above threshold\n",
      "X: 76 Y: 82 Region: 12\n",
      "Pixel (76, 493) above threshold\n",
      "X: 76 Y: 493 Region: 13\n",
      "Pixel (76, 624) above threshold\n",
      "X: 76 Y: 624 Region: 14\n",
      "Pixel (76, 715) above threshold\n",
      "X: 76 Y: 715 Region: 15\n",
      "Pixel (76, 806) above threshold\n",
      "X: 76 Y: 806 Region: 16\n",
      "Pixel (76, 882) above threshold\n",
      "X: 76 Y: 882 Region: 17\n",
      "Pixel (76, 1179) above threshold\n",
      "X: 76 Y: 1179 Region: 18\n",
      "Pixel (76, 1187) above threshold\n",
      "X: 76 Y: 1187 Region: 19\n",
      "Pixel (82, 533) above threshold\n",
      "X: 82 Y: 533 Region: 20\n",
      "Pixel (91, 1023) above threshold\n",
      "X: 91 Y: 1023 Region: 21\n",
      "Pixel (105, 139) above threshold\n",
      "X: 105 Y: 139 Region: 22\n",
      "Reg. 0.0 Ranges are (0, 180, 0, 1201)\n",
      "Reg. 1.0 Ranges are (4, 41, 20, 35)\n",
      "Reg. 2.0 Ranges are (10, 33, 71, 85)\n",
      "Reg. 3.0 Ranges are (10, 32, 89, 103)\n",
      "Reg. 4.0 Ranges are (20, 22, 43, 58)\n",
      "Reg. 5.0 Ranges are (27, 29, 43, 58)\n",
      "Reg. 6.0 Ranges are (55, 156, 13, 51)\n",
      "Reg. 7.0 Ranges are (60, 116, 219, 235)\n",
      "Reg. 8.0 Ranges are (60, 116, 310, 327)\n",
      "Reg. 9.0 Ranges are (60, 116, 402, 418)\n",
      "Reg. 10.0 Ranges are (74, 133, 4, 6)\n",
      "Reg. 11.0 Ranges are (76, 131, 74, 98)\n",
      "Reg. 12.0 Ranges are (76, 131, 493, 495)\n",
      "Reg. 13.0 Ranges are (76, 131, 609, 625)\n",
      "Reg. 14.0 Ranges are (76, 131, 700, 716)\n",
      "Reg. 15.0 Ranges are (76, 131, 791, 808)\n",
      "Reg. 16.0 Ranges are (76, 131, 882, 884)\n",
      "Reg. 17.0 Ranges are (76, 131, 1179, 1180)\n"
     ]
    },
    {
     "name": "stderr",
     "output_type": "stream",
     "text": [
      "/home/hiram/Workspace/miniconda3/envs/imgproc/lib/python3.7/site-packages/ipykernel_launcher.py:79: RuntimeWarning: More than 20 figures have been opened. Figures created through the pyplot interface (`matplotlib.pyplot.figure`) are retained until explicitly closed and may consume too much memory. (To control this warning, see the rcParam `figure.max_open_warning`).\n"
     ]
    },
    {
     "name": "stdout",
     "output_type": "stream",
     "text": [
      "Reg. 18.0 Ranges are (76, 131, 1187, 1193)\n",
      "Reg. 19.0 Ranges are (82, 139, 517, 534)\n",
      "Reg. 20.0 Ranges are (91, 96, 1023, 1039)\n",
      "Reg. 21.0 Ranges are (105, 161, 118, 146)\n"
     ]
    },
    {
     "data": {
      "image/png": "[encoded data removed]",
      "text/plain": [
       "<Figure size 864x864 with 1 Axes>"
      ]
     },
     "metadata": {
      "needs_background": "light"
     },
     "output_type": "display_data"
    },
    {
     "data": {
      "image/png": "[encoded data removed]",
      "text/plain": [
       "<Figure size 864x864 with 1 Axes>"
      ]
     },
     "metadata": {
      "needs_background": "light"
     },
     "output_type": "display_data"
    },
    {
     "data": {
      "image/png": "[encoded data removed]",
      "text/plain": [
       "<Figure size 864x864 with 1 Axes>"
      ]
     },
     "metadata": {
      "needs_background": "light"
     },
     "output_type": "display_data"
    },
    {
     "data": {
      "image/png": "[encoded data removed]",
      "text/plain": [
       "<Figure size 864x864 with 1 Axes>"
      ]
     },
     "metadata": {
      "needs_background": "light"
     },
     "output_type": "display_data"
    },
    {
     "data": {
      "image/png": "[encoded data removed]",
      "text/plain": [
       "<Figure size 864x864 with 1 Axes>"
      ]
     },
     "metadata": {
      "needs_background": "light"
     },
     "output_type": "display_data"
    },
    {
     "data": {
      "image/png": "[encoded data removed]",
      "text/plain": [
       "<Figure size 1440x1440 with 1 Axes>"
      ]
     },
     "metadata": {
      "needs_background": "light"
     },
     "output_type": "display_data"
    },
    {
     "data": {
      "image/png": "[encoded data removed]",
      "text/plain": [
       "<Figure size 1440x1440 with 1 Axes>"
      ]
     },
     "metadata": {
      "needs_background": "light"
     },
     "output_type": "display_data"
    },
    {
     "data": {
      "image/png": "[encoded data removed]",
      "text/plain": [
       "<Figure size 1440x1440 with 1 Axes>"
      ]
     },
     "metadata": {
      "needs_background": "light"
     },
     "output_type": "display_data"
    },
    {
     "data": {
      "image/png": "[encoded data removed]",
      "text/plain": [
       "<Figure size 288x288 with 1 Axes>"
      ]
     },
     "metadata": {
      "needs_background": "light"
     },
     "output_type": "display_data"
    },
    {
     "data": {
      "image/png": "[encoded data removed]",
      "text/plain": [
       "<Figure size 288x288 with 1 Axes>"
      ]
     },
     "metadata": {
      "needs_background": "light"
     },
     "output_type": "display_data"
    },
    {
     "data": {
      "image/png": "[encoded data removed]",
      "text/plain": [
       "<Figure size 288x288 with 1 Axes>"
      ]
     },
     "metadata": {
      "needs_background": "light"
     },
     "output_type": "display_data"
    },
    {
     "data": {
      "image/png": "[encoded data removed]",
      "text/plain": [
       "<Figure size 288x288 with 1 Axes>"
      ]
     },
     "metadata": {
      "needs_background": "light"
     },
     "output_type": "display_data"
    },
    {
     "data": {
      "image/png": "[encoded data removed]",
      "text/plain": [
       "<Figure size 288x288 with 1 Axes>"
      ]
     },
     "metadata": {
      "needs_background": "light"
     },
     "output_type": "display_data"
    },
    {
     "data": {
      "image/png": "[encoded data removed]",
      "text/plain": [
       "<Figure size 288x288 with 1 Axes>"
      ]
     },
     "metadata": {
      "needs_background": "light"
     },
     "output_type": "display_data"
    },
    {
     "data": {
      "image/png": "[encoded data removed]",
      "text/plain": [
       "<Figure size 288x288 with 1 Axes>"
      ]
     },
     "metadata": {
      "needs_background": "light"
     },
     "output_type": "display_data"
    },
    {
     "data": {
      "image/png": "[encoded data removed]",
      "text/plain": [
       "<Figure size 288x288 with 1 Axes>"
      ]
     },
     "metadata": {
      "needs_background": "light"
     },
     "output_type": "display_data"
    },
    {
     "data": {
      "image/png": "[encoded data removed]",
      "text/plain": [
       "<Figure size 288x288 with 1 Axes>"
      ]
     },
     "metadata": {
      "needs_background": "light"
     },
     "output_type": "display_data"
    },
    {
     "data": {
      "image/png": "[encoded data removed]",
      "text/plain": [
       "<Figure size 288x288 with 1 Axes>"
      ]
     },
     "metadata": {
      "needs_background": "light"
     },
     "output_type": "display_data"
    },
    {
     "data": {
      "image/png": "[encoded data removed]",
      "text/plain": [
       "<Figure size 288x288 with 1 Axes>"
      ]
     },
     "metadata": {
      "needs_background": "light"
     },
     "output_type": "display_data"
    },
    {
     "data": {
      "image/png": "[encoded data removed]",
      "text/plain": [
       "<Figure size 288x288 with 1 Axes>"
      ]
     },
     "metadata": {
      "needs_background": "light"
     },
     "output_type": "display_data"
    },
    {
     "data": {
      "image/png": "[encoded data removed]",
      "text/plain": [
       "<Figure size 288x288 with 1 Axes>"
      ]
     },
     "metadata": {
      "needs_background": "light"
     },
     "output_type": "display_data"
    },
    {
     "data": {
      "image/png": "[encoded data removed]",
      "text/plain": [
       "<Figure size 288x288 with 1 Axes>"
      ]
     },
     "metadata": {
      "needs_background": "light"
     },
     "output_type": "display_data"
    },
    {
     "data": {
      "image/png": "[encoded data removed]",
      "text/plain": [
       "<Figure size 288x288 with 1 Axes>"
      ]
     },
     "metadata": {
      "needs_background": "light"
     },
     "output_type": "display_data"
    },
    {
     "data": {
      "image/png": "[encoded data removed]",
      "text/plain": [
       "<Figure size 288x288 with 1 Axes>"
      ]
     },
     "metadata": {
      "needs_background": "light"
     },
     "output_type": "display_data"
    },
    {
     "data": {
      "image/png": "[encoded data removed]",
      "text/plain": [
       "<Figure size 288x288 with 1 Axes>"
      ]
     },
     "metadata": {
      "needs_background": "light"
     },
     "output_type": "display_data"
    },
    {
     "data": {
      "image/png": "[encoded data removed]",
      "text/plain": [
       "<Figure size 288x288 with 1 Axes>"
      ]
     },
     "metadata": {
      "needs_background": "light"
     },
     "output_type": "display_data"
    },
    {
     "data": {
      "image/png": "[encoded data removed]",
      "text/plain": [
       "<Figure size 288x288 with 1 Axes>"
      ]
     },
     "metadata": {
      "needs_background": "light"
     },
     "output_type": "display_data"
    },
    {
     "data": {
      "image/png": "[encoded data removed]",
      "text/plain": [
       "<Figure size 288x288 with 1 Axes>"
      ]
     },
     "metadata": {
      "needs_background": "light"
     },
     "output_type": "display_data"
    },
    {
     "data": {
      "image/png": "[encoded data removed]",
      "text/plain": [
       "<Figure size 288x288 with 1 Axes>"
      ]
     },
     "metadata": {
      "needs_background": "light"
     },
     "output_type": "display_data"
    },
    {
     "data": {
      "image/png": "[encoded data removed]",
      "text/plain": [
       "<Figure size 288x288 with 1 Axes>"
      ]
     },
     "metadata": {
      "needs_background": "light"
     },
     "output_type": "display_data"
    }
   ],
   "source": [
    "file1 = \"../assets/songtron_test_0.png\"\n",
    "main(file1)    "
   ]
  },
  {
   "cell_type": "code",
   "execution_count": null,
   "metadata": {
    "scrolled": false
   },
   "outputs": [],
   "source": [
    "file2 = \"../assets/danse_macabre_cut_0.png\"\n",
    "main(file2)"
   ]
  },
  {
   "cell_type": "code",
   "execution_count": null,
   "metadata": {
    "scrolled": false
   },
   "outputs": [],
   "source": [
    "file3 = \"../assets/asa_branca.jpg\"\n",
    "main(file3)"
   ]
  },
  {
   "cell_type": "markdown",
   "metadata": {},
   "source": [
    "# Just lines here lol"
   ]
  },
  {
   "cell_type": "code",
   "execution_count": 21,
   "metadata": {},
   "outputs": [],
   "source": [
    "#so this function will only find lines' height\n",
    "#image should suffer some dilation...\n",
    "def find_lines_height(img, thresh):\n",
    "    lines_found_heights = []\n",
    "    x,y = img.shape\n",
    "    search_y = y//2\n",
    "    inside_line = False\n",
    "    \n",
    "    for temp_x in range(x):\n",
    "        if img[temp_x, search_y] > thresh: #were are in a white pixel\n",
    "            print(\"Pixel {} is above thresh.\".format((temp_x, search_y)))\n",
    "            if not inside_line:\n",
    "                lines_found_heights.append(temp_x)\n",
    "            inside_line = True\n",
    "        else:\n",
    "            inside_line = False\n",
    "\n",
    "    return lines_found_heights"
   ]
  },
  {
   "cell_type": "code",
   "execution_count": 22,
   "metadata": {},
   "outputs": [
    {
     "name": "stdout",
     "output_type": "stream",
     "text": [
      "[[1 1 1 1 1 1 1 1 1 1 1 1 1 1 1 1 1 1 1 1 1 1 1 1 1 1 1 1 1 1 1 1 1 1 1 1\n",
      "  1 1 1 1]]\n",
      "Pixel (72, 601) is above thresh.\n",
      "Pixel (73, 601) is above thresh.\n",
      "Pixel (74, 601) is above thresh.\n",
      "Pixel (75, 601) is above thresh.\n",
      "Pixel (76, 601) is above thresh.\n",
      "Pixel (86, 601) is above thresh.\n",
      "Pixel (87, 601) is above thresh.\n",
      "Pixel (88, 601) is above thresh.\n",
      "Pixel (89, 601) is above thresh.\n",
      "Pixel (90, 601) is above thresh.\n",
      "Pixel (91, 601) is above thresh.\n",
      "Pixel (101, 601) is above thresh.\n",
      "Pixel (102, 601) is above thresh.\n",
      "Pixel (103, 601) is above thresh.\n",
      "Pixel (104, 601) is above thresh.\n",
      "Pixel (105, 601) is above thresh.\n",
      "Pixel (115, 601) is above thresh.\n",
      "Pixel (116, 601) is above thresh.\n",
      "Pixel (117, 601) is above thresh.\n",
      "Pixel (118, 601) is above thresh.\n",
      "Pixel (119, 601) is above thresh.\n",
      "Pixel (120, 601) is above thresh.\n",
      "Pixel (130, 601) is above thresh.\n",
      "Pixel (131, 601) is above thresh.\n",
      "Pixel (132, 601) is above thresh.\n",
      "Pixel (133, 601) is above thresh.\n",
      "Pixel (134, 601) is above thresh.\n"
     ]
    },
    {
     "data": {
      "text/plain": [
       "[72, 86, 101, 115, 130]"
      ]
     },
     "execution_count": 22,
     "metadata": {},
     "output_type": "execute_result"
    },
    {
     "data": {
      "image/png": "[encoded data removed]",
      "text/plain": [
       "<Figure size 864x864 with 1 Axes>"
      ]
     },
     "metadata": {
      "needs_background": "light"
     },
     "output_type": "display_data"
    },
    {
     "data": {
      "image/png": "[encoded data removed]",
      "text/plain": [
       "<Figure size 864x864 with 1 Axes>"
      ]
     },
     "metadata": {
      "needs_background": "light"
     },
     "output_type": "display_data"
    },
    {
     "data": {
      "image/png": "[encoded data removed]",
      "text/plain": [
       "<Figure size 864x864 with 1 Axes>"
      ]
     },
     "metadata": {
      "needs_background": "light"
     },
     "output_type": "display_data"
    },
    {
     "data": {
      "image/png": "[encoded data removed]",
      "text/plain": [
       "<Figure size 864x864 with 1 Axes>"
      ]
     },
     "metadata": {
      "needs_background": "light"
     },
     "output_type": "display_data"
    }
   ],
   "source": [
    "filename = \"../assets/songtron_test_0.png\"\n",
    "pic = imageio.imread(filename)\n",
    "gray = lambda rgb : np.dot(rgb[... , :3] , [0.21 , 0.72, 0.07])\n",
    "\n",
    "plt.figure(figsize=(12,12))\n",
    "plt.title(\"Original\")\n",
    "plt.imshow(pic, cmap='gray')\n",
    "plt.axis('off')\n",
    "\n",
    "bin_img = threshold(gray(pic), otsu_threshold(pic))\n",
    "plt.figure(figsize=(12,12))\n",
    "plt.title(\"Binarized\")\n",
    "plt.imshow(bin_img, cmap='gray')\n",
    "plt.axis('off')\n",
    "\n",
    "lines = kernel_horizontal(bin_img)\n",
    "plt.figure(figsize=(12,12))\n",
    "plt.title(\"Lines\")\n",
    "plt.imshow(lines, cmap='gray')\n",
    "plt.axis('off')\n",
    "\n",
    "#Morphological closing.\n",
    "lines_kernel = np.ones((4,1),np.uint8)\n",
    "dilated_lines = cv2.dilate(lines, lines_kernel, iterations=1)\n",
    "\n",
    "plt.figure(figsize=(12,12))\n",
    "plt.title(\"Dilated\")\n",
    "plt.imshow(dilated_lines, cmap='gray')\n",
    "plt.axis('off')\n",
    "\n",
    "#Here it would be nice if we segmented the lines.\n",
    "\"\"\"segmented_lines = do_segmentation(lines, otsu_threshold(pic))\n",
    "\n",
    "plt.figure(figsize=(20,20))\n",
    "plt.title(\"Segmented\")\n",
    "plt.imshow(segmented_lines, cmap='magma')\n",
    "plt.axis('off')\n",
    "\"\"\"\n",
    "\n",
    "lines_h = find_lines_height(dilated_lines,otsu_threshold(pic))\n",
    "lines_h"
   ]
  },
  {
   "cell_type": "code",
   "execution_count": null,
   "metadata": {},
   "outputs": [],
   "source": []
  },
  {
   "cell_type": "code",
   "execution_count": null,
   "metadata": {},
   "outputs": [],
   "source": []
  }
 ],
 "metadata": {
  "kernelspec": {
   "display_name": "Python 3",
   "language": "python",
   "name": "python3"
  },
  "language_info": {
   "codemirror_mode": {
    "name": "ipython",
    "version": 3
   },
   "file_extension": ".py",
   "mimetype": "text/x-python",
   "name": "python",
   "nbconvert_exporter": "python",
   "pygments_lexer": "ipython3",
   "version": "3.7.4"
  }
 },
 "nbformat": 4,
 "nbformat_minor": 4
}
