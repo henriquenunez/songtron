{
 "cells": [
  {
   "cell_type": "code",
   "execution_count": 1,
   "metadata": {},
   "outputs": [],
   "source": [
    "from symbol_classifier import *\n",
    "from utils import *\n",
    "import imageio\n",
    "import glob"
   ]
  },
  {
   "cell_type": "code",
   "execution_count": 2,
   "metadata": {},
   "outputs": [],
   "source": [
    "def bulk_feat_extract(path):\n",
    "    X = []\n",
    "    note_type = glob.glob(path)\n",
    "    for note in note_type:\n",
    "        an_img = imageio.imread(note)\n",
    "        an_img = threshold(an_img, otsu_threshold(an_img))\n",
    "        img_features = extract_features(an_img)\n",
    "        X.append(list(img_features))\n",
    "    return X"
   ]
  },
  {
   "cell_type": "code",
   "execution_count": 3,
   "metadata": {},
   "outputs": [],
   "source": [
    "feats = bulk_feat_extract(\"../assets/reference/crotchet/*\")"
   ]
  },
  {
   "cell_type": "code",
   "execution_count": 4,
   "metadata": {},
   "outputs": [],
   "source": [
    "s_class = symbol_classifier()"
   ]
  },
  {
   "cell_type": "code",
   "execution_count": 5,
   "metadata": {},
   "outputs": [
    {
     "name": "stdout",
     "output_type": "stream",
     "text": [
      "((0.7363482894648498, 0.3864162794108121, 0.47696391610610644, 0.5160940808947933), 'test')\n"
     ]
    }
   ],
   "source": [
    "s_class.insert_ref(feats, \"test\")"
   ]
  },
  {
   "cell_type": "code",
   "execution_count": 6,
   "metadata": {},
   "outputs": [],
   "source": [
    "img_1f = \"../datasets/crotchet/1.0.png\"\n",
    "#Image 1:\n",
    "img_1 = imageio.imread(img_1f)\n",
    "img_1 = threshold(img_1, otsu_threshold(img_1))\n",
    "img_1_feats = extract_features(img_1)"
   ]
  },
  {
   "cell_type": "code",
   "execution_count": 7,
   "metadata": {},
   "outputs": [
    {
     "name": "stdout",
     "output_type": "stream",
     "text": [
      "[<map object at 0x7f29cf673d50>]\n"
     ]
    },
    {
     "data": {
      "text/plain": [
       "(0.6864864864864865,\n",
       " 0.40540540540540543,\n",
       " 0.5486590038314176,\n",
       " 0.7576887232059646)"
      ]
     },
     "execution_count": 7,
     "metadata": {},
     "output_type": "execute_result"
    }
   ],
   "source": [
    "s_class.classify(img_1)\n",
    "img_1_feats"
   ]
  },
  {
   "cell_type": "code",
   "execution_count": 12,
   "metadata": {},
   "outputs": [
    {
     "data": {
      "text/plain": [
       "[0.04986180297836329,\n",
       " 0.018989125994593348,\n",
       " 0.07169508772531119,\n",
       " 0.24159464231117134]"
      ]
     },
     "execution_count": 12,
     "metadata": {},
     "output_type": "execute_result"
    }
   ],
   "source": [
    "ref_feat = (0.7363482894648498, 0.3864162794108121, 0.47696391610610644, 0.5160940808947933)\n",
    "x = map(rmse, list(ref_feat), list(img_1_feats))\n",
    "list(x)"
   ]
  },
  {
   "cell_type": "code",
   "execution_count": 9,
   "metadata": {},
   "outputs": [],
   "source": [
    "ref_image = imageio.imread(\"../assets/reference/crotchet/0.png\")\n",
    "ref_image = threshold(ref_image, otsu_threshold(ref_image))"
   ]
  },
  {
   "cell_type": "code",
   "execution_count": 10,
   "metadata": {},
   "outputs": [
    {
     "name": "stdout",
     "output_type": "stream",
     "text": [
      "[[  0   0   0   0   0   0   0   0   0   0   0 255]\n",
      " [  0   0   0   0   0   0   0   0   0   0   0 255]\n",
      " [  0   0   0   0   0   0   0   0   0   0   0 255]\n",
      " [  0   0   0   0   0   0   0   0   0   0   0 255]\n",
      " [  0   0   0   0   0   0   0   0   0   0   0 255]\n",
      " [  0   0   0   0   0   0   0   0   0   0   0 255]\n",
      " [  0   0   0   0   0   0   0   0   0   0   0 255]\n",
      " [  0   0   0   0   0   0   0   0   0   0   0 255]\n",
      " [  0   0   0   0   0   0   0   0   0   0   0 255]\n",
      " [  0   0   0   0   0   0   0   0   0   0   0 255]\n",
      " [  0   0   0   0   0   0   0   0   0   0   0 255]\n",
      " [  0   0   0   0   0   0   0   0   0   0   0 255]\n",
      " [  0   0   0   0   0   0   0   0   0   0   0 255]\n",
      " [  0   0   0   0   0   0   0   0   0   0   0 255]\n",
      " [  0   0   0   0   0   0   0   0   0   0   0 255]\n",
      " [  0   0   0   0   0   0   0   0   0   0 255 255]\n",
      " [  0   0   0   0   0   0   0   0   0   0   0 255]\n",
      " [  0   0   0   0   0   0   0   0   0   0   0 255]\n",
      " [  0   0   0   0   0   0   0   0   0   0   0 255]\n",
      " [  0   0   0   0   0   0   0   0   0   0   0 255]\n",
      " [  0   0   0   0   0   0   0   0   0   0   0 255]\n",
      " [  0   0   0   0   0   0   0   0   0   0   0 255]\n",
      " [  0   0   0   0   0   0   0   0   0   0   0 255]\n",
      " [  0   0   0   0   0   0   0   0   0   0   0 255]\n",
      " [  0   0   0   0   0   0   0   0   0   0   0 255]\n",
      " [  0   0   0   0   0   0   0   0   0   0   0 255]\n",
      " [  0   0   0   0   0   0   0   0   0   0   0 255]\n",
      " [  0   0   0   0   0   0   0   0   0   0   0 255]\n",
      " [  0   0   0   0   0   0   0   0   0   0   0 255]\n",
      " [  0   0   0   0   0 255 255 255 255 255 255 255]\n",
      " [  0   0   0 255 255 255 255 255 255 255 255 255]\n",
      " [  0   0 255 255 255 255 255 255 255 255 255 255]\n",
      " [  0 255 255 255 255 255 255 255 255 255 255 255]\n",
      " [  0 255 255 255 255 255 255 255 255 255 255   0]\n",
      " [  0 255 255 255 255 255 255 255 255 255 255   0]\n",
      " [255 255 255 255 255 255 255 255 255 255 255   0]\n",
      " [255 255 255 255 255 255 255 255 255 255   0   0]\n",
      " [  0 255 255 255 255 255 255 255   0   0   0   0]]\n",
      "[[  0   0   0   0   0   0   0   0   0   0   0 255]\n",
      " [  0   0   0   0   0   0   0   0   0   0   0 255]\n",
      " [  0   0   0   0   0   0   0   0   0   0   0 255]\n",
      " [  0   0   0   0   0   0   0   0   0   0   0 255]\n",
      " [  0   0   0   0   0   0   0   0   0   0   0 255]\n",
      " [  0   0   0   0   0   0   0   0   0   0   0 255]\n",
      " [  0   0   0   0   0   0   0   0   0   0   0 255]\n",
      " [  0   0   0   0   0   0   0   0   0   0   0 255]\n",
      " [  0   0   0   0   0   0   0   0   0   0   0 255]\n",
      " [  0   0   0   0   0   0   0   0   0   0   0 255]\n",
      " [  0   0   0   0   0   0   0   0   0   0   0 255]\n",
      " [  0   0   0   0   0   0   0   0   0   0   0 255]\n",
      " [  0   0   0   0   0   0   0   0   0   0   0 255]\n",
      " [  0   0   0   0   0   0   0   0   0   0   0 255]\n",
      " [  0   0   0   0   0   0   0   0   0   0   0 255]\n",
      " [  0   0   0   0   0   0   0   0   0   0   0 255]\n",
      " [  0   0   0   0   0   0   0   0   0   0   0 255]\n",
      " [  0   0   0   0   0   0   0   0   0   0   0 255]\n",
      " [  0   0   0   0   0   0   0   0   0   0   0 255]\n",
      " [  0   0   0   0   0   0   0   0   0   0   0 255]\n",
      " [  0   0   0   0   0   0   0   0   0   0   0 255]\n",
      " [  0   0   0   0   0   0   0   0   0   0   0 255]\n",
      " [  0   0   0   0   0   0   0   0   0   0   0 255]\n",
      " [  0   0   0   0   0   0   0   0   0   0   0 255]\n",
      " [  0   0   0   0   0   0   0   0   0   0   0 255]\n",
      " [  0   0   0   0   0   0   0   0   0   0   0 255]\n",
      " [  0   0   0   0   0 255 255 255 255 255 255 255]\n",
      " [  0   0   0   0 255 255 255 255 255 255 255 255]\n",
      " [  0   0 255 255 255 255 255 255 255 255 255 255]\n",
      " [  0 255 255 255 255 255 255 255 255 255 255 255]\n",
      " [  0 255 255 255 255 255 255 255 255 255 255 255]\n",
      " [  0 255 255 255 255 255 255 255 255 255 255 255]\n",
      " [255 255 255 255 255 255 255 255 255 255 255 255]\n",
      " [255 255 255 255 255 255 255 255 255 255 255 255]\n",
      " [255 255 255 255 255 255 255 255 255 255 255   0]\n",
      " [255 255 255 255 255 255 255 255 255 255   0   0]\n",
      " [255 255 255 255 255 255 255 255 255 255   0   0]\n",
      " [  0 255 255 255 255 255 255 255 255   0   0   0]]\n"
     ]
    },
    {
     "data": {
      "text/plain": [
       "0.8179824561403509"
      ]
     },
     "execution_count": 10,
     "metadata": {},
     "output_type": "execute_result"
    }
   ],
   "source": [
    "apply_mask(ref_image, img_1)"
   ]
  },
  {
   "cell_type": "markdown",
   "metadata": {},
   "source": [
    "# Testing da classifier"
   ]
  },
  {
   "cell_type": "code",
   "execution_count": 1,
   "metadata": {},
   "outputs": [],
   "source": [
    "from classify_notes import *"
   ]
  },
  {
   "cell_type": "code",
   "execution_count": null,
   "metadata": {},
   "outputs": [],
   "source": []
  }
 ],
 "metadata": {
  "kernelspec": {
   "display_name": "Python 3",
   "language": "python",
   "name": "python3"
  },
  "language_info": {
   "codemirror_mode": {
    "name": "ipython",
    "version": 3
   },
   "file_extension": ".py",
   "mimetype": "text/x-python",
   "name": "python",
   "nbconvert_exporter": "python",
   "pygments_lexer": "ipython3",
   "version": "3.7.4"
  }
 },
 "nbformat": 4,
 "nbformat_minor": 4
}
